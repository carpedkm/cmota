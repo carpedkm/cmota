{
 "cells": [
  {
   "cell_type": "code",
   "execution_count": 1,
   "id": "4e3f5dda",
   "metadata": {},
   "outputs": [],
   "source": [
    "from glob import glob\n",
    "import os \n",
    "import shutil\n",
    "import numpy as np\n",
    "from tqdm import tqdm"
   ]
  },
  {
   "cell_type": "code",
   "execution_count": 2,
   "id": "ccf56edf",
   "metadata": {},
   "outputs": [],
   "source": [
    "test_data = glob('../../output_imgs/cmota_reproduce/*.png')"
   ]
  },
  {
   "cell_type": "code",
   "execution_count": 3,
   "id": "02e29dcd",
   "metadata": {},
   "outputs": [],
   "source": [
    "_, _, test_ids = np.load('../../dataset/ducogan_pororo/train_seen_unseen_ids.npy', allow_pickle=True)"
   ]
  },
  {
   "cell_type": "code",
   "execution_count": 4,
   "id": "10e13cc0",
   "metadata": {},
   "outputs": [
    {
     "data": {
      "text/plain": [
       "[548, 550, 551, 552, 553, 554, 555, 556, 557, 558]"
      ]
     },
     "execution_count": 4,
     "metadata": {},
     "output_type": "execute_result"
    }
   ],
   "source": [
    "test_ids[:10]"
   ]
  },
  {
   "cell_type": "code",
   "execution_count": 5,
   "id": "71e941c1",
   "metadata": {},
   "outputs": [
    {
     "data": {
      "text/plain": [
       "2208"
      ]
     },
     "execution_count": 5,
     "metadata": {},
     "output_type": "execute_result"
    }
   ],
   "source": [
    "len(test_ids)"
   ]
  },
  {
   "cell_type": "code",
   "execution_count": 6,
   "id": "64c1ec35",
   "metadata": {},
   "outputs": [
    {
     "data": {
      "text/plain": [
       "['../../output_imgs/cmota_reproduce/x_ori_1615_1.png',\n",
       " '../../output_imgs/cmota_reproduce/x_ori_8160_4.png',\n",
       " '../../output_imgs/cmota_reproduce/x_ori_4646_2.png',\n",
       " '../../output_imgs/cmota_reproduce/x_gen_8412_3.png',\n",
       " '../../output_imgs/cmota_reproduce/x_ori_14463_1.png']"
      ]
     },
     "execution_count": 6,
     "metadata": {},
     "output_type": "execute_result"
    }
   ],
   "source": [
    "test_data[:5]"
   ]
  },
  {
   "cell_type": "code",
   "execution_count": 7,
   "id": "7c04a6f0",
   "metadata": {},
   "outputs": [
    {
     "data": {
      "text/plain": [
       "(22080, 11040.0, 2208.0)"
      ]
     },
     "execution_count": 7,
     "metadata": {},
     "output_type": "execute_result"
    }
   ],
   "source": [
    "len(test_data), len(test_data)/2,  (len(test_data)/2)/5"
   ]
  },
  {
   "cell_type": "code",
   "execution_count": 8,
   "id": "47c6d3ac",
   "metadata": {},
   "outputs": [],
   "source": [
    "# Number of test data: 2208\n",
    "for i in range(2208):\n",
    "    tst_ori_folder = 'cmota_reproduce/test_ori/' + str(i+1)\n",
    "    tst_gen_folder = 'cmota_reproduce/test_gen/' + str(i+1)\n",
    "    \n",
    "    os.makedirs(tst_ori_folder, exist_ok=True)\n",
    "    os.makedirs(tst_gen_folder, exist_ok=True)"
   ]
  },
  {
   "cell_type": "code",
   "execution_count": 9,
   "id": "f00cc438",
   "metadata": {},
   "outputs": [
    {
     "name": "stderr",
     "output_type": "stream",
     "text": [
      "2208it [00:01, 1986.46it/s]\n"
     ]
    }
   ],
   "source": [
    "sub_folder = 1\n",
    "\n",
    "for tmp_ind, val_i in tqdm(enumerate(test_ids)):\n",
    "    src_gen_prefix_fname = '../../output_imgs/cmota_reproduce/x_gen_' + str(val_i) + '_'\n",
    "    src_ori_prefix_fname = '../../output_imgs/cmota_reproduce/x_ori_' + str(val_i) + '_'\n",
    "    \n",
    "    for i in range(5):\n",
    "        src_gen = src_gen_prefix_fname + str(i) + '.png'\n",
    "        src_ori = src_ori_prefix_fname + str(i) + '.png'\n",
    "        \n",
    "        if not os.path.isfile(src_gen):\n",
    "            break\n",
    "        else:\n",
    "            dst_gen = 'cmota_reproduce/test_gen/' + str(sub_folder) + '/' + str(i) + '.png'\n",
    "            dst_ori = 'cmota_reproduce/test_ori/' + str(sub_folder) + '/' + str(i) + '.png'\n",
    "            shutil.copy(src_gen, dst_gen)\n",
    "            shutil.copy(src_ori, dst_ori)\n",
    "\n",
    "    if os.path.isfile(src_gen):\n",
    "        sub_folder += 1"
   ]
  },
  {
   "cell_type": "code",
   "execution_count": 10,
   "id": "24102618",
   "metadata": {},
   "outputs": [
    {
     "data": {
      "text/plain": [
       "2209"
      ]
     },
     "execution_count": 10,
     "metadata": {},
     "output_type": "execute_result"
    }
   ],
   "source": [
    "sub_folder"
   ]
  },
  {
   "cell_type": "code",
   "execution_count": null,
   "id": "5200834c",
   "metadata": {},
   "outputs": [],
   "source": []
  },
  {
   "cell_type": "code",
   "execution_count": null,
   "id": "2723f3a6",
   "metadata": {},
   "outputs": [],
   "source": []
  }
 ],
 "metadata": {
  "kernelspec": {
   "display_name": "Python 3 (ipykernel)",
   "language": "python",
   "name": "python3"
  },
  "language_info": {
   "codemirror_mode": {
    "name": "ipython",
    "version": 3
   },
   "file_extension": ".py",
   "mimetype": "text/x-python",
   "name": "python",
   "nbconvert_exporter": "python",
   "pygments_lexer": "ipython3",
   "version": "3.7.16"
  }
 },
 "nbformat": 4,
 "nbformat_minor": 5
}
